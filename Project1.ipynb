{
  "nbformat": 4,
  "nbformat_minor": 0,
  "metadata": {
    "colab": {
      "provenance": [],
      "authorship_tag": "ABX9TyPcpBak8o0dDZ0/BWftiE5/",
      "include_colab_link": true
    },
    "kernelspec": {
      "name": "python3",
      "display_name": "Python 3"
    },
    "language_info": {
      "name": "python"
    }
  },
  "cells": [
    {
      "cell_type": "markdown",
      "metadata": {
        "id": "view-in-github",
        "colab_type": "text"
      },
      "source": [
        "<a href=\"https://colab.research.google.com/github/AbhinavPradeep2004/Random_Number-and-Plotting/blob/main/Project1.ipynb\" target=\"_parent\"><img src=\"https://colab.research.google.com/assets/colab-badge.svg\" alt=\"Open In Colab\"/></a>"
      ]
    },
    {
      "cell_type": "markdown",
      "source": [
        "<h1>Overview</h1>\n",
        "-A project to generate thousand random numbers have both numeric and alpabets. Then calculate its highest base and plotting in graph"
      ],
      "metadata": {
        "id": "2k6QMwu3nW0d"
      }
    },
    {
      "cell_type": "markdown",
      "source": [
        "<div class=\"markdown-google-sans\">\n",
        "  <h2>Libraries Used</h2>\n",
        "</div>\n",
        "The libraries that are used are:-\n",
        "\n",
        "**Random** - for generation of random numbers\n",
        "\n",
        "**Matplotlib** - for plotting graph"
      ],
      "metadata": {
        "id": "1Kwfp-NGoEaS"
      }
    },
    {
      "cell_type": "code",
      "source": [
        "#importing matplot library for plotting of graph\n",
        "import matplotlib.pyplot as plt\n",
        "\n",
        "#importing random library for the generation of random numbers\n",
        "import random"
      ],
      "metadata": {
        "id": "AomXSTsZpu0O"
      },
      "execution_count": null,
      "outputs": []
    },
    {
      "cell_type": "markdown",
      "source": [
        "In the above code we are importing the Libraries **random** and **matplotlib**."
      ],
      "metadata": {
        "id": "nj4SohfcpyNy"
      }
    },
    {
      "cell_type": "code",
      "source": [
        "#empty dictionary\n",
        "mapping_dict=dict()"
      ],
      "metadata": {
        "id": "buKDVknSqBrq"
      },
      "execution_count": null,
      "outputs": []
    },
    {
      "cell_type": "markdown",
      "source": [
        "**\"mapping_dict\"** is a variable of type dictionary which stores numbers from **0-9** and from **10-35** it will store alphabets **A-Z**"
      ],
      "metadata": {
        "id": "2lBVpFENqYWG"
      }
    },
    {
      "cell_type": "markdown",
      "source": [
        "- In the dictionary the values will be\n",
        "stored in the form of key and values. So, the key will be **\"0-35\"** in numeric form and values in the form of string, that is, from **\"0-9 and a-z\"**"
      ],
      "metadata": {
        "id": "8sUqZinTrah8"
      }
    },
    {
      "cell_type": "markdown",
      "source": [
        "->This code is creating a dictionary 'mapping_dict' where keys are taken from the range 0 to 9, and values are the string representation of the corresponding values from the same range. Here's the breakdown:\n",
        "\n"
      ],
      "metadata": {
        "id": "iMBi6ZFLrVnM"
      }
    },
    {
      "cell_type": "code",
      "source": [
        "for key,value in zip(range(0,10),range(0,10)):\n",
        "  mapping_dict[key]=str(value)"
      ],
      "metadata": {
        "id": "wF9I4Q96rRf4"
      },
      "execution_count": null,
      "outputs": []
    },
    {
      "cell_type": "markdown",
      "source": [
        "- After the loop, mapping_dict will contain pairs where each key is an integer from 0 to 9, and the corresponding value is the string representation of the same integer. For example, the resulting dictionary might look like this:"
      ],
      "metadata": {
        "id": "RMOEe5mbtrBq"
      }
    },
    {
      "cell_type": "markdown",
      "source": [
        "{0: '0',\n",
        " 1: '1',\n",
        " 2: '2',\n",
        " 3: '3',\n",
        " 4: '4',\n",
        " 5: '5',\n",
        " 6: '6',\n",
        " 7: '7',\n",
        " 8: '8',\n",
        " 9: '9'}"
      ],
      "metadata": {
        "id": "hBsFmxCqt-vL"
      }
    },
    {
      "cell_type": "markdown",
      "source": [
        "This is achieved by iterating through the **zip** of two ranges, where **key** takes values from the first range, and **value** takes values from the second range. The values are then converted to strings using **str(value)** before being assigned to the dictionary.\n",
        "\n",
        "\n",
        "\n",
        "\n",
        "\n"
      ],
      "metadata": {
        "id": "qPf5oZdAuG7n"
      }
    },
    {
      "cell_type": "code",
      "source": [
        "for key,value in zip(range(10,36),range(65,91)):\n",
        "  mapping_dict[key]=chr(value)"
      ],
      "metadata": {
        "id": "XkBx-5i_uk3E"
      },
      "execution_count": null,
      "outputs": []
    },
    {
      "cell_type": "markdown",
      "source": [
        "This code is generating key value pairs where the **key** is from **'10-35'** in numeric form and **values** are their **ASCII values** form **'65-90'**"
      ],
      "metadata": {
        "id": "AVBsZ-paumQB"
      }
    },
    {
      "cell_type": "markdown",
      "source": [
        "This is achieved by iterating through the zip of two ranges. **key** takes values from the first range (10 to 35), and **value** takes values from the second range (65 to 90). The values are then converted to their respective 'ASCII values' using **chr(value)** before being assigned to the dictionary.\n",
        "\n",
        "\n",
        "\n",
        "\n",
        "\n"
      ],
      "metadata": {
        "id": "kuUXx9GpvbAB"
      }
    },
    {
      "cell_type": "markdown",
      "source": [
        "After the loop, mapping_dict will contain pairs where each key is an integer from 10 to 35, and the corresponding value is the character represented by the ASCII value from the range 65 to 90. For example, the resulting dictionary might look like this:\n",
        "\n",
        "{10: 'A',\n",
        " 11: 'B',\n",
        " 12: 'C',\n",
        " 13: 'D',\n",
        " 14: 'E',\n",
        " 15: 'F',\n",
        " 16: 'G',\n",
        " 17: 'H',\n",
        " 18: 'I',\n",
        " 19: 'J',\n",
        " 20: 'K',\n",
        " 21: 'L',\n",
        " 22: 'M',\n",
        " 23: 'N',\n",
        " 24: 'O',\n",
        " 25: 'P',\n",
        " 26: 'Q',\n",
        " 27: 'R',\n",
        " 28: 'S',\n",
        " 29: 'T',\n",
        " 30: 'U',\n",
        " 31: 'V',\n",
        " 32: 'W',\n",
        " 33: 'X',\n",
        " 34: 'Y',\n",
        " 35: 'Z'}"
      ],
      "metadata": {
        "id": "TabTA0SmziIQ"
      }
    },
    {
      "cell_type": "code",
      "source": [
        "mapping_dict"
      ],
      "metadata": {
        "id": "bEAhCWMhwoBR"
      },
      "execution_count": null,
      "outputs": []
    },
    {
      "cell_type": "markdown",
      "source": [
        "The final Dictionary looks like this:\n",
        "\n",
        "{0: '0',\n",
        " 1: '1',\n",
        " 2: '2',\n",
        " 3: '3',\n",
        " 4: '4',\n",
        " 5: '5',\n",
        " 6: '6',\n",
        " 7: '7',\n",
        " 8: '8',\n",
        " 9: '9',\n",
        " 10: 'A',\n",
        " 11: 'B',\n",
        " 12: 'C',\n",
        " 13: 'D',\n",
        " 14: 'E',\n",
        " 15: 'F',\n",
        " 16: 'G',\n",
        " 17: 'H',\n",
        " 18: 'I',\n",
        " 19: 'J',\n",
        " 20: 'K',\n",
        " 21: 'L',\n",
        " 22: 'M',\n",
        " 23: 'N',\n",
        " 24: 'O',\n",
        " 25: 'P',\n",
        " 26: 'Q',\n",
        " 27: 'R',\n",
        " 28: 'S',\n",
        " 29: 'T',\n",
        " 30: 'U',\n",
        " 31: 'V',\n",
        " 32: 'W',\n",
        " 33: 'X',\n",
        " 34: 'Y',\n",
        " 35: 'Z'}"
      ],
      "metadata": {
        "id": "pEN0aT8jzxqN"
      }
    },
    {
      "cell_type": "code",
      "source": [
        "#Creating random number variable\n",
        "random_number = list()"
      ],
      "metadata": {
        "id": "lBtTppl2wxfO"
      },
      "execution_count": null,
      "outputs": []
    },
    {
      "cell_type": "markdown",
      "source": [
        "- This **random_number** variable of type 'List' is used to store the randomly generated numbers"
      ],
      "metadata": {
        "id": "CLE43J5hw7to"
      }
    },
    {
      "cell_type": "code",
      "source": [
        "sample_size = 100000000"
      ],
      "metadata": {
        "id": "AIbX1nqxxY7G"
      },
      "execution_count": null,
      "outputs": []
    },
    {
      "cell_type": "markdown",
      "source": [
        "-**sample_size** this variable is used to store how much number of random numbers should be made. This variable is used so that we don't have to change it everywhere and directly use this variable."
      ],
      "metadata": {
        "id": "JbGPAryrxnsj"
      }
    },
    {
      "cell_type": "code",
      "source": [
        "for i in range(0,sample_size):\n",
        "  blank_str=\"\"\n",
        "\n",
        "  random_digit = random.randint(0,35)\n",
        "  blank_str = blank_str + mapping_dict[random_digit]\n",
        "\n",
        "  random_digit = random.randint(0,35)\n",
        "  blank_str = blank_str + mapping_dict[random_digit]\n",
        "\n",
        "  for i in range(0,8):\n",
        "    coin_toss=random.randint(0,1)\n",
        "    if coin_toss==1:\n",
        "      random_digit=random.randint(0,35)\n",
        "      blank_str = blank_str + mapping_dict[random_digit]\n",
        "    else:\n",
        "      break\n",
        "  random_number.append(blank_str)"
      ],
      "metadata": {
        "id": "fbFr_WqSxOsc"
      },
      "execution_count": null,
      "outputs": []
    },
    {
      "cell_type": "markdown",
      "source": [
        "<H3>Generation of random numbers</H3>\n",
        "<p>This code basically generates random numbers containing both numbers and alphabets.\n",
        "\n",
        "eg:- 'O3R',\n",
        " 'U6N',\n",
        " '664',\n",
        " 'J4'</p>\n",
        "\n",
        "\n"
      ],
      "metadata": {
        "id": "qE3jYuFNyZtw"
      }
    },
    {
      "cell_type": "markdown",
      "source": [
        "- The loop starts its iteration and for each iteration it creates a blank string.\n",
        "- Then it generates a random number and assign it to **blank_str** varialbe.\n",
        "- for each coin toss when every its true or \"1\" it generates a random number having both numeric and alphabets of atleast 10 digits.\n",
        "- Then, each generated random numbers in the **blank_str** is appended to **\"random_number\"** list using \".append()\" function."
      ],
      "metadata": {
        "id": "oWVkp8bd1JJw"
      }
    },
    {
      "cell_type": "code",
      "source": [
        "reverse_dict=dict()\n",
        "for i in mapping_dict.keys():\n",
        "  reverse_dict[mapping_dict[i]]=i"
      ],
      "metadata": {
        "id": "0Fi28pvg2yen"
      },
      "execution_count": null,
      "outputs": []
    },
    {
      "cell_type": "markdown",
      "source": [
        "<h3>Reversing the dictionary</h3>\n",
        "Here, we are reversing the dictionary so that we can find the highest base of the random numbers generated in the **random_number** list.\n",
        "\n",
        "- **reverse_dict** is a empty dictionary to store the reversed mapping_dict.\n",
        "- for every iteration in mapping_dict keys we get the value and **i** contains the keys\n",
        "- for the new reverse dictionary the mapping_dict's values are the key of the reverse dictionary and keys of the mapping_dict are the values of reverse dictionary."
      ],
      "metadata": {
        "id": "OWctjYFj270f"
      }
    },
    {
      "cell_type": "markdown",
      "source": [
        "<h3>Base_Frequency</h3>\n",
        "In this we are finding the highest base of all the random numbers generated and finding its frequency\n",
        "\n",
        "  - We are finding the highest base of each random number in the **random_number** list with the help of **highest_digit** and storing it into the **highest_base**.\n",
        "  \n",
        "  - Then we are finding the base frequency of each highest bases from \"0-35\" and storing it into the **base_frequency** dictionary\n",
        "\n"
      ],
      "metadata": {
        "id": "JVNaCogw4Vsu"
      }
    },
    {
      "cell_type": "code",
      "source": [
        "base_frequency = dict()"
      ],
      "metadata": {
        "id": "w60I1x1H4J_r"
      },
      "execution_count": null,
      "outputs": []
    },
    {
      "cell_type": "markdown",
      "source": [
        "This is the **base_frequency** empty dictionary to store frequency of each highest bases from 0-35."
      ],
      "metadata": {
        "id": "UO-RmHmH--n6"
      }
    },
    {
      "cell_type": "code",
      "source": [
        "for blank_str in random_number:\n",
        "  highest_digit = max(blank_str)\n",
        "  highest_base = reverse_dict[highest_digit]\n",
        "\n",
        "  if highest_base in base_frequency.keys():\n",
        "    base_frequency[highest_base] += 1\n",
        "  else:\n",
        "    base_frequency[highest_base] = 1"
      ],
      "metadata": {
        "id": "S6Zn-JAw_O3L"
      },
      "execution_count": null,
      "outputs": []
    },
    {
      "cell_type": "markdown",
      "source": [
        "- In this we are finding the highest base of each random numbers stored in the **random_number** list using **max()** function and **reverse_dict**.\n",
        "\n",
        "- Then we are finding the base frequency that is the count of each bases from \"0-35\"\n",
        "\n",
        "The dictionary looks like:\n",
        "\n",
        "{28: 486,\n",
        " 34: 702,\n",
        " 25: 384,\n",
        " 19: 268,\n",
        " 18: 261,\n",
        " 24: 365,\n",
        " 31: 623,\n",
        " 17: 176,\n",
        " 29: 518,\n",
        " 30: 537,\n",
        " 26: 396,\n",
        " 22: 297,\n",
        " 32: 633,\n",
        " 16: 184,\n",
        " 33: 696,\n",
        " 10: 113,\n",
        " 7: 89,\n",
        " 20: 262,\n",
        " 12: 131,\n",
        " 35: 816,\n",
        " 21: 282,\n",
        " 27: 447,\n",
        " 15: 149,\n",
        " 23: 362,\n",
        " 11: 134,\n",
        " 6: 61,\n",
        " 4: 41,\n",
        " 5: 59,\n",
        " 9: 103,\n",
        " 13: 128,\n",
        " 3: 26,\n",
        " 14: 159,\n",
        " 8: 69,\n",
        " 0: 8,\n",
        " 2: 20,\n",
        " 1: 15}"
      ],
      "metadata": {
        "id": "mwNzXlcA_SfH"
      }
    },
    {
      "cell_type": "code",
      "source": [
        "base_frequency"
      ],
      "metadata": {
        "id": "CZIhIirEAKS6"
      },
      "execution_count": null,
      "outputs": []
    },
    {
      "cell_type": "code",
      "source": [
        "plt.bar(x=base_frequency.keys(),height=base_frequency.values())\n",
        "plt.show()"
      ],
      "metadata": {
        "colab": {
          "base_uri": "https://localhost:8080/",
          "height": 433
        },
        "id": "GbCs6Tr8BPTL",
        "outputId": "94640a36-32aa-441e-b609-88f5453196c4"
      },
      "execution_count": null,
      "outputs": [
        {
          "output_type": "display_data",
          "data": {
            "text/plain": [
              "<Figure size 640x480 with 1 Axes>"
            ],
            "image/png": "[encoded data removed]"
          },
          "metadata": {}
        }
      ]
    },
    {
      "cell_type": "markdown",
      "source": [
        "- **plt.bar(x,y)** this is a function of matplotlib use to plot bar graph\n",
        "  - In the X-axis we give the base_frequeny keys, that is, from **0-35**   \n",
        "  - In the Y-axis we give the base frequency values that is count of each bases"
      ],
      "metadata": {
        "id": "wKNaYBarBTdb"
      }
    }
  ]
}